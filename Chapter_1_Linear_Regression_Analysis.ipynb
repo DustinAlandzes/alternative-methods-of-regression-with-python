{
  "nbformat": 4,
  "nbformat_minor": 0,
  "metadata": {
    "colab": {
      "name": "Chapter 1 - Linear Regression Analysis.ipynb",
      "version": "0.3.2",
      "provenance": [],
      "include_colab_link": true
    },
    "kernelspec": {
      "name": "python3",
      "display_name": "Python 3"
    }
  },
  "cells": [
    {
      "cell_type": "markdown",
      "metadata": {
        "id": "view-in-github",
        "colab_type": "text"
      },
      "source": [
        "<a href=\"https://colab.research.google.com/github/f00-/alternative-methods-of-regression-with-python/blob/master/Chapter_1_Linear_Regression_Analysis.ipynb\" target=\"_parent\"><img src=\"https://colab.research.google.com/assets/colab-badge.svg\" alt=\"Open In Colab\"/></a>"
      ]
    },
    {
      "metadata": {
        "id": "FHvudRq7-FTj",
        "colab_type": "code",
        "colab": {}
      },
      "cell_type": "code",
      "source": [
        "import pandas as pd"
      ],
      "execution_count": 0,
      "outputs": []
    },
    {
      "metadata": {
        "id": "QzxUvR1F-Le4",
        "colab_type": "text"
      },
      "cell_type": "markdown",
      "source": [
        "## 1.3 The Linear Regression Model\n",
        "### Notation and Terminology.\n",
        "\n",
        "It is convenient to use the following notation:\n",
        "\n",
        "$y_i$ = concentration of  viatmin $B_2$  for the *i*th plant\n",
        "\n",
        "$x_{i1}$ =  sunlight measurement for the ith plant\n",
        "\n",
        "$x_{i2}$ =  soil moisture measurement for the *i*th plant\n",
        "\n",
        "$x_{i3}$ =  air temperature for the *i*th plant\n",
        "\n",
        "When referring to a particular plant for which data have been collected, we use the notation $y_i, x_{i1}, x_{i2}, x_{i3}, $.\n",
        "\n",
        "When talking in general about an unspecified plant, we use the notation $Y, X_1, X_2, X_3$\n",
        "\n",
        "The variable $Y$, which is thought to depend on the other variables is called the *dependent variable* or *response variable*.\n",
        "\n",
        "The other variables, $X_1, X_2, $ and $X_3$ are called *independent variables* or *explanatory variables*\n",
        "\n",
        "### Formulation of a Model for the Example\n",
        "\n",
        "We begin with the plausable postulate that the concentration of vitamin $B_2$ in the leaves of a turnip Plant ($Y$) is, approximately, a function of sunlight ($X_1$), soil moisture ($X_2$), and air temperature ($X_3$).\n",
        "\n",
        "We do not expect to be able to express Y as an exact mathematical function of $X_1, X_2, and X_3$ because as is generally true of real-life processes, the production of vitamin $B_2$ is more complicated than that\n",
        "\n",
        "Let us write $f(X_1, X_2, X_3)$ to express the part of Y explained by the X's . A useful model is obtained by supposing that Y differs from  $f(X_1, X_2, X_3)$ by a random quantity $\\epsilon$.\n",
        "- We cannot expect this model, or any model, to completely describe reality, but it is more realistic than assuming  $Y = f(X_1, X_2, X_3)$ exactly\n",
        "\n",
        "The equation  $Y = f(X_1, X_2, X_3) + \\epsilon $  is a regression model in which $f$ is the *regression function* and $\\epsilson$ is a *random error*.\n",
        "\n",
        "A *linear regression model* is a regression model in which the regression function is lienar. A rlinear regression model for the example is\n",
        "\n",
        "$$\n",
        "Y = \\beta_0 + \\beta_1 X_1 + \\beta_2 X_2 + \\beta_3 X_3 + \\epsilon\n",
        "$$\n",
        "\n",
        "The form of the function is specified to be linear but the coefficients  $\\beta_0, \\beta_1, \\beta_2, and \\beta_3$ are not specified they are unknown parameters. THey are called *regression coefficients* or *regression parameters*. The error $\\epsilon$ is assumed to be a random variable with mean 0.\n",
        "\n",
        "### Linearity\n",
        "\n",
        "The essential feature of a linear regression function is that it is a sum of terms $B_j X_j$, where $B_j$ is an unkown parameter and $X_j$ is obtained from the data.\n",
        "\n",
        "### The General Model\n",
        "\n",
        "In general, suppose we have data consisting of $n$ observations of a response variable Y and $p$ explanatory variables $X_1, X_2, ..., X_p$. It is convenient to arrange the data in an array as in Table 1.2. Such data are sometimes called \"regression data\" because it is natural to think of using a regression model to analyze them. The *linear regression model* is the equation\n",
        "\n",
        "$$\n",
        "Y = \\beta_0 + \\beta_1 X_1 + \\beta_2 X_2 + ... + \\beta_p X_p + \\epsilon\n",
        "$$\n",
        "\n",
        "In terms of the observed data, the model is\n",
        "\n",
        "$$\n",
        "Y = \\beta_0 + \\beta_1 x_1 + \\beta_2 x_2 + ... + \\beta_p x_p + \\epsilon\n",
        "$$\n",
        "\n",
        "for i = 1, 2, ..., n. Also included in the model is the assumption that the random errors $\\epsilon_1, \\epsilon_2, ... \\epsilon_n$ can be regarded as a random sample of independent draws from a single population having a mean of 0.\n",
        "\n",
        "### When is the Model Appropriate\n",
        "\n",
        "A theoretical model can never *exactly* describe a real-world process such as the production of vitamin $B_2$ in turnip leaves, because the real world is too complex.\n",
        "\n",
        "The linear regression model makes several assumptions about the data, including linearity of the function of the explanatory variables, independence of the random errors, and the equality of the variances of the random errors.\n",
        "\n",
        "## 1.4 Estimating the Regression Coefficients\n",
        "\n",
        "The regression coefficients $\\beta_0, \\beta_1, \\beta_2, and \\beta_3$ are unknown parameters that need to be estimated. The basic idea of the model is that the linear function $\\beta_0 + \\beta_1 X_1 + \\beta_2 X_2 + \\beta_3 X_3$ is \"close\" to the value of Y. So, in using the observed data to estimate the regression coefficients, the basic idea is to estimate them by values $\\hat \\beta_0, \\hat \\beta_1, \\hat \\beta_2, and \\hat\\beta_3$ such that the *fitted* y-value,\n",
        "\n",
        "$$\n",
        "\\hat y = \\hat \\beta_0 + \\hat \\beta_1 x_{i1} + \\hat \\beta_2 x_{i2} + \\hat \\beta_3 x_{i3}\n",
        "$$\n",
        "\n",
        "is \"close\" to the observed y-value, $y_i$, for i = 1, 2, ..., 27. How exactly do we measure the collective closeness of the fitted y-values to the observed y-values?\n",
        "\n",
        "## 1.5 Testing the Significance of the Relationship\n",
        "\n",
        "A good model balanced two competing requirements:\n",
        "1. The model should be complex enough to approximate the real-world phenomenon it describes\n",
        "2. The model should be as simple as possible, because the simpler it is, the more comprehensible it is. \n",
        " - Therefore, if we have two models that give approximately the same degree of agreement with reality, we should prefer the simpler model\n",
        " \n",
        " ## todo, add equations here and do linear regression on turnip data\n",
        " In the context of linear regression analysis, this principle of simplicity is applied in the following way. From the full linear regression model $$ we drop out one or more of the explanatory variables, say $$, to obtain a reduced model $$. We then perform a test to see if there is a significant difference between the full model and the reduced model. If there is nosignificant difference then the two models are approximately equivalent and so we prefer the simpler one, the reduced model.\n"
      ]
    },
    {
      "metadata": {
        "id": "6EM6bNFGH_8M",
        "colab_type": "code",
        "colab": {}
      },
      "cell_type": "code",
      "source": [
        ""
      ],
      "execution_count": 0,
      "outputs": []
    },
    {
      "metadata": {
        "id": "HUDWZcCoIBc0",
        "colab_type": "text"
      },
      "cell_type": "markdown",
      "source": [
        "## 1.6 The need for alternative methods\n",
        "\n",
        "When one wants to apply the lienar regression model to a set of data, there are various methods one could use to estimate the regression coefficients. The most popular one is called the *method of least squares* (presented in Chapter 3). This method however, has weaknesses and conseqently sometimes statisticians perfer to use alternative regression methods\n",
        "\n",
        "A weakness of the least-squares method is that it allows outliers to have too much influence\n",
        "- Alternative regression methods are available which restrain the influence of outlying data points (least absolute squares, presented in Chapter 4)\n",
        "\n",
        "The least-squares method of regression performs best if the population of errors has a normal distribution. If it is thought that the distribution of errors may not be normal (which is sometimes indicated by the occurence of outliers) then least-squares estimates and tests may be much less efficient than those providedb y the methods of least absolute deviations, M-regression (Chapter 5), or nonparametric regression (Chapter 6)\n",
        "\n",
        "## 1.7 Origin of the word \"Regression\"\n",
        "\n",
        "Francis Galton introduced the concept of regression in a paper on \"Typical Laws of Heredity\" presented in England in 1877. In a study of inheritance in sweet peas, he discovered an interesting relationship between the diameters of parent sweet peas and the diameters of their offspring\n",
        "\n",
        "Figure 1.2 displays part of his data. For each of seven diameters, he found sweet peas having approximately that diameter and planted them. These were the \"parent\" sweet peas. After the plants grew and produced peas, these \"offspring\" sweet peas were harvested and their diameters were measured.\n",
        "\n",
        "Galton noticed two thigns about these data. First, the averages of the offspring diameters had an approximately linear relationship with the parent diameters. Just by eye we can see in Figure 1.2 that a straight line could be drawn that fits the data fairly well.\n",
        "\n",
        "Second, he noticed that the average diameters of the offspring peas appear to \"regress\" towards a common average. (In 1877 he used the word \"revert\" but in an 1885 paper he changed the word to \"regress\"). The overall average diameter of the offspring peas is about 16.3. For each of the seven parental diameters, the average diameter of the offspring differs from the parental diameter in the direction of the overall average. Galton later referred to this phenomenon as \"regression twoards mediocrity\"\n",
        "\n",
        "One might htink that regression would imply that, after many generations all sweet peas would end up having the same diameter. But the regression only pertians to the average diameters of the offspring peas. The individual peas have diameters that vary around the average. The variability of the indiviudal diametesr compenstates for the regression of the average diameters, so that the distribution of diameters in the population of offspring peas is actually the same as the distribution of diameters in the population of parent peas"
      ]
    },
    {
      "metadata": {
        "id": "dweJ4f0QCC2-",
        "colab_type": "code",
        "colab": {
          "base_uri": "https://localhost:8080/",
          "height": 235
        },
        "outputId": "7a1ff2be-348e-40fa-d7c3-f1f06779698c"
      },
      "cell_type": "code",
      "source": [
        "peas_df = pd.read_csv(\"https://github.com/f00-/alternative-methods-of-regression-with-python/raw/master/peas.csv\")\n",
        "peas_df.head(6)"
      ],
      "execution_count": 4,
      "outputs": [
        {
          "output_type": "execute_result",
          "data": {
            "text/html": [
              "<div>\n",
              "<style scoped>\n",
              "    .dataframe tbody tr th:only-of-type {\n",
              "        vertical-align: middle;\n",
              "    }\n",
              "\n",
              "    .dataframe tbody tr th {\n",
              "        vertical-align: top;\n",
              "    }\n",
              "\n",
              "    .dataframe thead th {\n",
              "        text-align: right;\n",
              "    }\n",
              "</style>\n",
              "<table border=\"1\" class=\"dataframe\">\n",
              "  <thead>\n",
              "    <tr style=\"text-align: right;\">\n",
              "      <th></th>\n",
              "      <th>diameter of parent</th>\n",
              "      <th>mean diameter of offspring</th>\n",
              "    </tr>\n",
              "  </thead>\n",
              "  <tbody>\n",
              "    <tr>\n",
              "      <th>0</th>\n",
              "      <td>21</td>\n",
              "      <td>17.5</td>\n",
              "    </tr>\n",
              "    <tr>\n",
              "      <th>1</th>\n",
              "      <td>20</td>\n",
              "      <td>17.3</td>\n",
              "    </tr>\n",
              "    <tr>\n",
              "      <th>2</th>\n",
              "      <td>19</td>\n",
              "      <td>16.0</td>\n",
              "    </tr>\n",
              "    <tr>\n",
              "      <th>3</th>\n",
              "      <td>18</td>\n",
              "      <td>16.3</td>\n",
              "    </tr>\n",
              "    <tr>\n",
              "      <th>4</th>\n",
              "      <td>17</td>\n",
              "      <td>15.6</td>\n",
              "    </tr>\n",
              "    <tr>\n",
              "      <th>5</th>\n",
              "      <td>16</td>\n",
              "      <td>16.0</td>\n",
              "    </tr>\n",
              "  </tbody>\n",
              "</table>\n",
              "</div>"
            ],
            "text/plain": [
              "   diameter of parent  mean diameter of offspring\n",
              "0                  21                        17.5\n",
              "1                  20                        17.3\n",
              "2                  19                        16.0\n",
              "3                  18                        16.3\n",
              "4                  17                        15.6\n",
              "5                  16                        16.0"
            ]
          },
          "metadata": {
            "tags": []
          },
          "execution_count": 4
        }
      ]
    },
    {
      "metadata": {
        "id": "PExAVu-xGWRy",
        "colab_type": "code",
        "colab": {
          "base_uri": "https://localhost:8080/",
          "height": 378
        },
        "outputId": "6367da2d-c113-467e-c802-4fb52600913a"
      },
      "cell_type": "code",
      "source": [
        "# todo ticks style, figure 1.3\n",
        "peas_df.plot(x=\"diameter of parent\", y=\"mean diameter of offspring\", kind=\"scatter\", ylim=14, xlim=14)"
      ],
      "execution_count": 9,
      "outputs": [
        {
          "output_type": "execute_result",
          "data": {
            "text/plain": [
              "<matplotlib.axes._subplots.AxesSubplot at 0x7ff822328dd8>"
            ]
          },
          "metadata": {
            "tags": []
          },
          "execution_count": 9
        },
        {
          "output_type": "display_data",
          "data": {
            "image/png": "[encoded data removed]",
            "text/plain": [
              "<matplotlib.figure.Figure at 0x7ff82266f860>"
            ]
          },
          "metadata": {
            "tags": []
          }
        }
      ]
    },
    {
      "metadata": {
        "id": "fcNNudynGXaK",
        "colab_type": "code",
        "colab": {}
      },
      "cell_type": "code",
      "source": [
        ""
      ],
      "execution_count": 0,
      "outputs": []
    }
  ]
}