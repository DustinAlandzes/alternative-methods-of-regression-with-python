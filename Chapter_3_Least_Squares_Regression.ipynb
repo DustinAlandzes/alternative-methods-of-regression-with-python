{
  "nbformat": 4,
  "nbformat_minor": 0,
  "metadata": {
    "colab": {
      "name": "Chapter 3 Least Squares Regression.ipynb",
      "version": "0.3.2",
      "provenance": [],
      "include_colab_link": true
    },
    "kernelspec": {
      "name": "python3",
      "display_name": "Python 3"
    }
  },
  "cells": [
    {
      "cell_type": "markdown",
      "metadata": {
        "id": "view-in-github",
        "colab_type": "text"
      },
      "source": [
        "<a href=\"https://colab.research.google.com/github/f00-/alternative-methods-of-regression-with-python/blob/master/Chapter_3_Least_Squares_Regression.ipynb\" target=\"_parent\"><img src=\"https://colab.research.google.com/assets/colab-badge.svg\" alt=\"Open In Colab\"/></a>"
      ]
    },
    {
      "metadata": {
        "id": "vZORtI05LYS2",
        "colab_type": "code",
        "colab": {}
      },
      "cell_type": "code",
      "source": [
        "import numpy as np\n",
        "import matplotlib.pyplot as plt\n",
        "import pandas as pd\n",
        "plt.style.use('ggplot')"
      ],
      "execution_count": 0,
      "outputs": []
    },
    {
      "metadata": {
        "id": "D7LBhRR0vHqj",
        "colab_type": "text"
      },
      "cell_type": "markdown",
      "source": [
        "## 3.9 Testing \n",
        "\n",
        "## 3.11 The Coefficient of Determination\n",
        "The *coefficient of determination* is ameasure of how well the explanatory variables explain the response variable.\n",
        "\n",
        "$$\n",
        "R^2 = \\frac{\\sum(\\hat y_i - \\bar y)}{\\sum(y_i - \\bar y)}\n",
        "$$"
      ]
    },
    {
      "metadata": {
        "id": "3NSC8tLsLhfh",
        "colab_type": "code",
        "colab": {
          "base_uri": "https://localhost:8080/",
          "height": 204
        },
        "outputId": "56b2207f-271f-4193-9742-5aae26523d0d"
      },
      "cell_type": "code",
      "source": [
        "# from Chapter 3, Section 3.12 COMPUTATION, page 48\n",
        "df = pd.DataFrame(data={\n",
        "    'Y': [37, 40, 48, 44, 50, 51],\n",
        "    'X_1': [4, 6, 6, 9, 11, 12],\n",
        "    'X_2': [22, 24, 18, 20, 15, 9]})\n",
        "df.head()"
      ],
      "execution_count": 3,
      "outputs": [
        {
          "output_type": "execute_result",
          "data": {
            "text/html": [
              "<div>\n",
              "<style scoped>\n",
              "    .dataframe tbody tr th:only-of-type {\n",
              "        vertical-align: middle;\n",
              "    }\n",
              "\n",
              "    .dataframe tbody tr th {\n",
              "        vertical-align: top;\n",
              "    }\n",
              "\n",
              "    .dataframe thead th {\n",
              "        text-align: right;\n",
              "    }\n",
              "</style>\n",
              "<table border=\"1\" class=\"dataframe\">\n",
              "  <thead>\n",
              "    <tr style=\"text-align: right;\">\n",
              "      <th></th>\n",
              "      <th>X_1</th>\n",
              "      <th>X_2</th>\n",
              "      <th>Y</th>\n",
              "    </tr>\n",
              "  </thead>\n",
              "  <tbody>\n",
              "    <tr>\n",
              "      <th>0</th>\n",
              "      <td>4</td>\n",
              "      <td>22</td>\n",
              "      <td>37</td>\n",
              "    </tr>\n",
              "    <tr>\n",
              "      <th>1</th>\n",
              "      <td>6</td>\n",
              "      <td>24</td>\n",
              "      <td>40</td>\n",
              "    </tr>\n",
              "    <tr>\n",
              "      <th>2</th>\n",
              "      <td>6</td>\n",
              "      <td>18</td>\n",
              "      <td>48</td>\n",
              "    </tr>\n",
              "    <tr>\n",
              "      <th>3</th>\n",
              "      <td>9</td>\n",
              "      <td>20</td>\n",
              "      <td>44</td>\n",
              "    </tr>\n",
              "    <tr>\n",
              "      <th>4</th>\n",
              "      <td>11</td>\n",
              "      <td>15</td>\n",
              "      <td>50</td>\n",
              "    </tr>\n",
              "  </tbody>\n",
              "</table>\n",
              "</div>"
            ],
            "text/plain": [
              "   X_1  X_2   Y\n",
              "0    4   22  37\n",
              "1    6   24  40\n",
              "2    6   18  48\n",
              "3    9   20  44\n",
              "4   11   15  50"
            ]
          },
          "metadata": {
            "tags": []
          },
          "execution_count": 3
        }
      ]
    },
    {
      "metadata": {
        "id": "QvyZKY-VkL2o",
        "colab_type": "code",
        "colab": {
          "base_uri": "https://localhost:8080/",
          "height": 34
        },
        "outputId": "f70c8758-c9a1-47ad-8841-2385b916567b"
      },
      "cell_type": "code",
      "source": [
        "X = [4, 6, 6, 9, 11, 12]\n",
        "Y = [37, 40, 48, 44, 50, 51]\n",
        "\n",
        "# mean x and y\n",
        "mean_x = np.mean(X)\n",
        "mean_y = np.mean(Y)\n",
        "\n",
        "# total number of values\n",
        "n = len(df)\n",
        "\n",
        "numer = 0\n",
        "denom = 0\n",
        "for i in range(n):\n",
        "  numer += (X[i] * mean_x) * (Y[i] - mean_y)\n",
        "  denom += (X[i] - mean_x) ** 2\n",
        "b1 = numer / denom\n",
        "b0 = mean_y - (b1 * mean_x)\n",
        "\n",
        "print(b1, b0)"
      ],
      "execution_count": 9,
      "outputs": [
        {
          "output_type": "stream",
          "text": [
            "11.84 -49.72\n"
          ],
          "name": "stdout"
        }
      ]
    },
    {
      "metadata": {
        "id": "ImkNkr79nkn0",
        "colab_type": "code",
        "colab": {
          "base_uri": "https://localhost:8080/",
          "height": 34
        },
        "outputId": "82eede9e-4bf1-49d5-d939-95015a4f17ea"
      },
      "cell_type": "code",
      "source": [
        "ss_t = 0\n",
        "ss_r = 0\n",
        "for i in range(n):\n",
        "  y_pred = b0 + b1 * X[i]\n",
        "  ss_t += (Y[i] - mean_y) ** 2\n",
        "  ss_r += (Y[i] - y_pred) ** 2\n",
        "r2 = 1 - (ss_r/ss_t)\n",
        "print(r2)"
      ],
      "execution_count": 12,
      "outputs": [
        {
          "output_type": "stream",
          "text": [
            "-32.856\n"
          ],
          "name": "stdout"
        }
      ]
    },
    {
      "metadata": {
        "id": "wISPrceNp3vN",
        "colab_type": "code",
        "colab": {}
      },
      "cell_type": "code",
      "source": [
        "from sklearn.linear_model import LinearRegression\n",
        "from sklearn.metrics import mean_squared_error\n",
        "\n",
        "# cannot use Rank 1 matrixin scikit learn\n",
        "X = reshape((m, 1))\n",
        "\n",
        "reg = LinearRegression()\n",
        "reg = reg.fit(X, Y)\n",
        "y_pred = reg.predict(X)\n",
        "\n",
        "r2_score = reg.score(X, Y)\n",
        "\n",
        "print(reg.coef_)"
      ],
      "execution_count": 0,
      "outputs": []
    }
  ]
}