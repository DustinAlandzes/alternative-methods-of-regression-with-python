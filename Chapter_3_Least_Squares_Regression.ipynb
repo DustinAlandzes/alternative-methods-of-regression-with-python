{
  "nbformat": 4,
  "nbformat_minor": 0,
  "metadata": {
    "colab": {
      "name": "Chapter 3 Least Squares Regression.ipynb",
      "version": "0.3.2",
      "provenance": [],
      "include_colab_link": true
    },
    "kernelspec": {
      "name": "python3",
      "display_name": "Python 3"
    }
  },
  "cells": [
    {
      "cell_type": "markdown",
      "metadata": {
        "id": "view-in-github",
        "colab_type": "text"
      },
      "source": [
        "<a href=\"https://colab.research.google.com/github/f00-/alternative-methods-of-regression-with-python/blob/master/Chapter_3_Least_Squares_Regression.ipynb\" target=\"_parent\"><img src=\"https://colab.research.google.com/assets/colab-badge.svg\" alt=\"Open In Colab\"/></a>"
      ]
    },
    {
      "metadata": {
        "id": "vZORtI05LYS2",
        "colab_type": "code",
        "colab": {}
      },
      "cell_type": "code",
      "source": [
        "import numpy as np\n",
        "import matplotlib.pyplot as plt\n",
        "import pandas as pd\n",
        "plt.style.use('ggplot')"
      ],
      "execution_count": 0,
      "outputs": []
    },
    {
      "metadata": {
        "id": "D7LBhRR0vHqj",
        "colab_type": "text"
      },
      "cell_type": "markdown",
      "source": [
        "## 3.3 Estimation the Regression Line\n",
        "THe basic idea in estimation the regression lien is to find the straight line that \"best\" fits the data points in the plot. TO judge how well the estimated regression line $\\hat Y = \\hat \\alpha + \\hat \\beta X$ fits the data, we can looks at the residual $\\hat e_i = y_i - (\\hat \\alpha + \\hat \\beta x_i)$\n",
        "\n",
        "We want to choose $\\hat \\alpha$ and $\\hat \\beta$ so that the residuals are small\n",
        "\n",
        "In the least-squares method of regression, the overall size of the residuals is measured by $\\sum{\\hat e_i^2}$. The least-squares estimates of $\\alpha$ and $\\beta$ are defined to be the values $\\hat \\alpha$ and $\\hat \\beta$ which give the smalled value of  $\\sum{\\hat e_i^2}$, that is, which give the least sum of squares of the residuals.\n",
        "\n",
        "$$\n",
        "\\hat \\beta = \\frac{\\sum{(x_i - \\bar x)(y_i - \\bar y)}}{\\sum{(x_i - \\bar x)^2}}\\\\\n",
        "\\hat \\alpha = \\bar y - \\hat \\beta \\bar x\n",
        "\\tag{3.2}\n",
        "$$\n",
        "\n",
        "Here $\\bar x$ and $\\bar y$ denote the averages of the $x_i$'s and the $y_i$'s respectively.\n",
        "\n",
        "## 3.4 Testing $\\beta = 0$\n",
        "We can compare the full model $Y = \\alpha + \\beta X + e$ using $X$ and the reduced model $Y = \\alpha + e$ without X. If the full model fits the data significantly better than the reduced model, this implies that hte relationship between X and Y is significant. Another way of describing the comparison of the two models is to call it a test of hte hypothesis that $\\beta = 0$.\n",
        "\n",
        "Based on the evidence of the data, we must decide whether $\\beta = 0$ or $\\require{cancel} \\beta \\cancel{\n",
        "=} 0$. The hypothesis $\\beta = 0$ (the *null hypothesis*) and the hypothesis $\\require{cancel} \\beta \\cancel{\n",
        "=} 0$ (the *alternative hypothesis*) are not treated equally. Because of our preference for simplicity, even before we look at the evidence we begin with a preference for $\\beta = 0$, because the model $Y = \\alpha + e$ is simpler than the model $Y = \\alpha + \\beta X + e$. \n",
        "\n",
        "### Description of theTest\n",
        "\n",
        "$t\n",
        "\n",
        "\n",
        "## 3.5 Checking Normality\n",
        "\n",
        "## 3.6 An Example of Multiple Regression\n",
        "\n",
        "## 3.7 Estimating the Regression Coefficients\n",
        "\n",
        "Model (3.6) can be reexpressed in matrix notation as\n",
        "$$\n",
        "y = X\\beta + e\n",
        "\\tag{3.7}\n",
        "$$\n",
        "\n",
        "The formula for the vector of least-squares regression estimates is\n",
        "$$\n",
        "\\hat \\beta = (X' X)^{-1} X' y\n",
        "\\tag{3.8}\n",
        "$$\n",
        "### Matrix Notation.\n",
        "\n",
        "### The General Model.\n",
        "\n",
        "### The Case of Simple Regression\n",
        "\n",
        "## 3.9 Testing the Regression Coefficients\n",
        "\n",
        "### A Test Statistic\n",
        "\n",
        "The suitability of a model can be judged by the size of the residuals. The smaller the residuals, the better the model fits the data. In the least-squares method, an overall measure of the size of the residuals is given by the sum of squares of the residuals. Let SSR denote the sum of squares of the residuals of a model. We can compare the full model wit hthe reduced model by comparing $SSR_full$ with $SSR_reduced$. Specifically, the test statistic we use for testing $\\beta_1 = \\beta_2 = \\beta_3 = \\beta_4 = 0$ is\n",
        "\n",
        "$$\n",
        "F = \\frac{SSR_{reduced} - SSR_{full}}{4 \\hat \\sigma^2}\n",
        "\\tag{3.10}\n",
        "$$\n",
        "\n",
        "### Estimating $\\sigma^2$\n",
        "\n",
        "### The p-Value\n",
        "\n",
        "### The Distribution of F\n",
        "\n",
        "## 3.9 Testing $\\beta_{q + 1} = ... = \\beta_p = 0$\n",
        "\n",
        "## 3.10 Testing $\\beta_3 = 0$\n",
        "\n",
        "## 3.11 The Coefficient of Determination\n",
        "The *coefficient of determination* is ameasure of how well the explanatory variables explain the response variable.\n",
        "\n",
        "$$\n",
        "R^2 = \\frac{\\sum(\\hat y_i - \\bar y)}{\\sum(y_i - \\bar y)}\n",
        "$$"
      ]
    },
    {
      "metadata": {
        "id": "3NSC8tLsLhfh",
        "colab_type": "code",
        "outputId": "0f19bbc4-1a11-45ba-c3e6-c26a65ca20cc",
        "colab": {
          "base_uri": "https://localhost:8080/",
          "height": 204
        }
      },
      "cell_type": "code",
      "source": [
        "### from Chapter 3, Section 3.12 COMPUTATION, page 48\n",
        "df = pd.DataFrame(data={\n",
        "    'Y': [37, 40, 48, 44, 50, 51],\n",
        "    'X_1': [4, 6, 6, 9, 11, 12],\n",
        "    'X_2': [22, 24, 18, 20, 15, 9]})\n",
        "df.head()"
      ],
      "execution_count": 12,
      "outputs": [
        {
          "output_type": "execute_result",
          "data": {
            "text/html": [
              "<div>\n",
              "<style scoped>\n",
              "    .dataframe tbody tr th:only-of-type {\n",
              "        vertical-align: middle;\n",
              "    }\n",
              "\n",
              "    .dataframe tbody tr th {\n",
              "        vertical-align: top;\n",
              "    }\n",
              "\n",
              "    .dataframe thead th {\n",
              "        text-align: right;\n",
              "    }\n",
              "</style>\n",
              "<table border=\"1\" class=\"dataframe\">\n",
              "  <thead>\n",
              "    <tr style=\"text-align: right;\">\n",
              "      <th></th>\n",
              "      <th>X_1</th>\n",
              "      <th>X_2</th>\n",
              "      <th>Y</th>\n",
              "    </tr>\n",
              "  </thead>\n",
              "  <tbody>\n",
              "    <tr>\n",
              "      <th>0</th>\n",
              "      <td>4</td>\n",
              "      <td>22</td>\n",
              "      <td>37</td>\n",
              "    </tr>\n",
              "    <tr>\n",
              "      <th>1</th>\n",
              "      <td>6</td>\n",
              "      <td>24</td>\n",
              "      <td>40</td>\n",
              "    </tr>\n",
              "    <tr>\n",
              "      <th>2</th>\n",
              "      <td>6</td>\n",
              "      <td>18</td>\n",
              "      <td>48</td>\n",
              "    </tr>\n",
              "    <tr>\n",
              "      <th>3</th>\n",
              "      <td>9</td>\n",
              "      <td>20</td>\n",
              "      <td>44</td>\n",
              "    </tr>\n",
              "    <tr>\n",
              "      <th>4</th>\n",
              "      <td>11</td>\n",
              "      <td>15</td>\n",
              "      <td>50</td>\n",
              "    </tr>\n",
              "  </tbody>\n",
              "</table>\n",
              "</div>"
            ],
            "text/plain": [
              "   X_1  X_2   Y\n",
              "0    4   22  37\n",
              "1    6   24  40\n",
              "2    6   18  48\n",
              "3    9   20  44\n",
              "4   11   15  50"
            ]
          },
          "metadata": {
            "tags": []
          },
          "execution_count": 12
        }
      ]
    },
    {
      "metadata": {
        "id": "QvyZKY-VkL2o",
        "colab_type": "code",
        "outputId": "184b9d6d-89d6-48b1-c6f6-c7b93dc4d156",
        "colab": {
          "base_uri": "https://localhost:8080/",
          "height": 34
        }
      },
      "cell_type": "code",
      "source": [
        "X = [4, 6, 6, 9, 11, 12]\n",
        "Y = [37, 40, 48, 44, 50, 51]\n",
        "\n",
        "# mean x and y\n",
        "mean_x = np.mean(X)\n",
        "mean_y = np.mean(Y)\n",
        "\n",
        "# total number of values\n",
        "n = len(X)\n",
        "\n",
        "numer = 0\n",
        "denom = 0\n",
        "for i in range(n):\n",
        "  numer += (X[i] * mean_x) * (Y[i] - mean_y)\n",
        "  denom += (X[i] - mean_x) ** 2\n",
        "b1 = numer / denom\n",
        "b0 = mean_y - (b1 * mean_x)\n",
        "\n",
        "print(b1, b0)"
      ],
      "execution_count": 13,
      "outputs": [
        {
          "output_type": "stream",
          "text": [
            "11.84 -49.72\n"
          ],
          "name": "stdout"
        }
      ]
    },
    {
      "metadata": {
        "id": "ImkNkr79nkn0",
        "colab_type": "code",
        "outputId": "fa40f7bf-55d8-4227-de82-5f799a28d9c2",
        "colab": {
          "base_uri": "https://localhost:8080/",
          "height": 34
        }
      },
      "cell_type": "code",
      "source": [
        "ss_t = 0\n",
        "ss_r = 0\n",
        "for i in range(n):\n",
        "  y_pred = b0 + b1 * X[i]\n",
        "  ss_t += (Y[i] - mean_y) ** 2\n",
        "  ss_r += (Y[i] - y_pred) ** 2\n",
        "r2 = 1 - (ss_r/ss_t)\n",
        "print(r2)"
      ],
      "execution_count": 14,
      "outputs": [
        {
          "output_type": "stream",
          "text": [
            "-32.856\n"
          ],
          "name": "stdout"
        }
      ]
    },
    {
      "metadata": {
        "id": "wISPrceNp3vN",
        "colab_type": "code",
        "colab": {
          "base_uri": "https://localhost:8080/",
          "height": 364
        },
        "outputId": "b2595610-3efa-449b-b488-7550cbec1448"
      },
      "cell_type": "code",
      "source": [
        "from sklearn.linear_model import LinearRegression\n",
        "from sklearn.metrics import mean_squared_error\n",
        "\n",
        "X = [4, 6, 6, 9, 11, 12]\n",
        "Y = [37, 40, 48, 44, 50, 51]\n",
        "\n",
        "# cannot use Rank 1 matrix in scikit learn\n",
        "X = np.array(X).reshape(-1, 1)\n",
        "\n",
        "reg = LinearRegression()\n",
        "reg = reg.fit(X, Y)\n",
        "y_pred = reg.predict(X)\n",
        "\n",
        "r2_score = reg.score(X, Y)\n",
        "\n",
        "print(reg.coef_)\n",
        "\n",
        "plt.scatter(X, Y,  color='black')\n",
        "plt.plot(X, y_pred, color='blue', linewidth=3)\n",
        "plt.show()"
      ],
      "execution_count": 22,
      "outputs": [
        {
          "output_type": "stream",
          "text": [
            "[1.48]\n"
          ],
          "name": "stdout"
        },
        {
          "output_type": "display_data",
          "data": {
            "image/png": "[encoded data removed]",
            "text/plain": [
              "<matplotlib.figure.Figure at 0x7f37ac5fe0f0>"
            ]
          },
          "metadata": {
            "tags": []
          }
        }
      ]
    },
    {
      "metadata": {
        "id": "6k8azOgfJ3CV",
        "colab_type": "code",
        "colab": {}
      },
      "cell_type": "code",
      "source": [
        "class LeastSquaresRegression():\n",
        "  def __init__(self):\n",
        "    self.coef_ = 0\n",
        "    self.b1 = 0\n",
        "    self.b0 = 0\n",
        "\n",
        "  def fit(X, Y):\n",
        "    '''\n",
        "    \n",
        "    '''\n",
        "    # mean x and y\n",
        "    mean_x = np.mean(X)\n",
        "    mean_y = np.mean(Y)\n",
        "\n",
        "    # total number of values\n",
        "    n = len(X)\n",
        "\n",
        "    numer = 0\n",
        "    denom = 0\n",
        "    for i in range(n):\n",
        "      numer += (X[i] * mean_x) * (Y[i] - mean_y)\n",
        "      denom += (X[i] - mean_x) ** 2\n",
        "    this.b1 = numer / denom\n",
        "    this.b0 = mean_y - (b1 * mean_x)\n",
        "\n",
        "  def predict(test_set):\n",
        "    pass\n",
        "\n",
        "  def score(X, Y):\n",
        "    '''\n",
        "      Calculates the coefficient of determination (R-squared / R^2)\n",
        "      the proportion of the variance in the dependent variable that is predictable from the independent variable\n",
        "    '''\n",
        "    # mean x and y\n",
        "    mean_x = np.mean(X)\n",
        "    mean_y = np.mean(Y)\n",
        "\n",
        "    ss_t = 0\n",
        "    ss_r = 0\n",
        "    for i in range(n):\n",
        "      y_pred = b0 + b1 * X[i]\n",
        "      ss_t += (Y[i] - mean_y) ** 2\n",
        "      ss_r += (Y[i] - y_pred) ** 2\n",
        "    r2 = 1 - (ss_r/ss_t)\n",
        "    return r2"
      ],
      "execution_count": 0,
      "outputs": []
    }
  ]
}