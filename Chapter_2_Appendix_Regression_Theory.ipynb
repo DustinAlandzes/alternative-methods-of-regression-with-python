{
  "nbformat": 4,
  "nbformat_minor": 0,
  "metadata": {
    "colab": {
      "name": "Chapter 2 Appendix - Regression Theory.ipynb",
      "version": "0.3.2",
      "provenance": [],
      "collapsed_sections": [],
      "include_colab_link": true
    },
    "kernelspec": {
      "name": "python3",
      "display_name": "Python 3"
    }
  },
  "cells": [
    {
      "cell_type": "markdown",
      "metadata": {
        "id": "view-in-github",
        "colab_type": "text"
      },
      "source": [
        "<a href=\"https://colab.research.google.com/github/f00-/alternative-methods-of-regression-with-python/blob/master/Chapter_2_Appendix_Regression_Theory.ipynb\" target=\"_parent\"><img src=\"https://colab.research.google.com/assets/colab-badge.svg\" alt=\"Open In Colab\"/></a>"
      ]
    },
    {
      "metadata": {
        "id": "AdJEh-VSdFvf",
        "colab_type": "code",
        "colab": {}
      },
      "cell_type": "code",
      "source": [
        ""
      ],
      "execution_count": 0,
      "outputs": []
    },
    {
      "metadata": {
        "id": "5UMHByILdKhS",
        "colab_type": "text"
      },
      "cell_type": "markdown",
      "source": [
        "## Conditional Expectation Functions\n",
        "Chapter 1 introduces the notion of mathematical expectation, called \"expectation\" for short. We write $E[Y_i]$ for the expectation of a variable, $Y_i$.\n",
        "\n",
        "We're also concerned with *conditional expectations*, that is, the expectation of avariable in groups (also called \"cells\") defined by a second variable.\n",
        "- Sometimes this second variable is a dummy, taking on only two values, but it need not be. \n",
        "- Often, as in this chapter, we're interested in conditional expectations in groups defined by the values of variables that aren't dummies\n",
        "  - for example, the expected earnings for people who have completed 16 years of schooling. \n",
        "\n",
        "This sort of conditional expectation can be written as\n",
        "\n",
        "$$\n",
        "E[Y_i | X_i = x]\n",
        "$$\n",
        "\n",
        "and it's read as \"The conditional expectation of $Y_i$ given that $X_i$ equals the particular value $x$\"\n",
        "\n",
        "--- \n",
        "**Conditional expectations** tell us how the population average of one variable changes as we move the conditioning variable over the values htis variable might assume. \n",
        "\n",
        "For every value of the conditioning variable, we might get a different average of the dependent variable, $Y_i$.\n",
        "- The collection of all such averages is called the *conditional expectation function* (CEF for short).\n",
        "\n",
        "$E[Y_i | X_i]$ is the CEF of $Y_i$ given $X_i$, without specifying a value for $X_i$, while $E[Y_i | X_i = x]$ is one point in the range of this function."
      ]
    },
    {
      "metadata": {
        "id": "TMPCaMgTd2p-",
        "colab_type": "code",
        "colab": {}
      },
      "cell_type": "code",
      "source": [
        ""
      ],
      "execution_count": 0,
      "outputs": []
    }
  ]
}