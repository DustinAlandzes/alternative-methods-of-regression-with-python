{
  "nbformat": 4,
  "nbformat_minor": 0,
  "metadata": {
    "colab": {
      "name": "Chapter 2 - Constructing and Checking the Model.ipynb",
      "version": "0.3.2",
      "provenance": [],
      "include_colab_link": true
    },
    "kernelspec": {
      "name": "python3",
      "display_name": "Python 3"
    }
  },
  "cells": [
    {
      "cell_type": "markdown",
      "metadata": {
        "id": "view-in-github",
        "colab_type": "text"
      },
      "source": [
        "<a href=\"https://colab.research.google.com/github/f00-/alternative-methods-of-regression-with-python/blob/master/Chapter_2_Constructing_and_Checking_the_Model.ipynb\" target=\"_parent\"><img src=\"https://colab.research.google.com/assets/colab-badge.svg\" alt=\"Open In Colab\"/></a>"
      ]
    },
    {
      "metadata": {
        "id": "kpIg-4OG8leD",
        "colab_type": "text"
      },
      "cell_type": "markdown",
      "source": [
        "# Chapter 2 - Constructing and Checking the Model\n",
        "\n",
        "## 2.1 Introduction\n",
        "In this chapter, before focusing on the various methods of estimatino and testing presenting in the remaining chapters, we first consider the overall plan of statistical analysis in which these methods are intended to be used.\n",
        "\n",
        "Data analysis can be viewed as model construction. A model is proposed and then checked to see how well it fits the data. If the fit is inadequate, the model is modified. The process of checkign and modifying the model is iterated until a suitable model is found.\n",
        "\n",
        "Estimating and testing of regression coefficients are important tools in model construction.\n",
        "\n",
        "### Proposing a Model.\n",
        "\n",
        "### The Assumptions\n",
        "\n",
        "## 2.2 Checking the Model\n",
        "\n",
        "### Plotting the Data.\n",
        "\n",
        "### Plotting the Residuals\n",
        "\n",
        "### Testing the Explanatory Variables\n",
        "\n",
        "## 2.3 Modifying the Model\n",
        "\n",
        "### Nonlinearity\n",
        "\n",
        "### Unequal Varianes\n",
        "\n",
        "### Outliers\n",
        "\n",
        "## 2.4 Examples\n",
        "\n",
        "### Example 1 - Turnip data\n",
        "\n",
        "### Example 2 - Fire data\n",
        "\n"
      ]
    },
    {
      "metadata": {
        "id": "ANqFHm9Q7wOz",
        "colab_type": "code",
        "colab": {
          "base_uri": "https://localhost:8080/",
          "height": 886
        },
        "outputId": "65bf2517-41c6-4eaa-d381-af5b248f7b23"
      },
      "cell_type": "code",
      "source": [
        "import pandas as pd\n",
        "import math\n",
        "\n",
        "turnips_df = pd.read_csv(\"https://github.com/f00-/alternative-methods-of-regression-with-python/raw/master/turnips.csv\")\n",
        "turnips_df.head(27)"
      ],
      "execution_count": 13,
      "outputs": [
        {
          "output_type": "execute_result",
          "data": {
            "text/html": [
              "<div>\n",
              "<style scoped>\n",
              "    .dataframe tbody tr th:only-of-type {\n",
              "        vertical-align: middle;\n",
              "    }\n",
              "\n",
              "    .dataframe tbody tr th {\n",
              "        vertical-align: top;\n",
              "    }\n",
              "\n",
              "    .dataframe thead th {\n",
              "        text-align: right;\n",
              "    }\n",
              "</style>\n",
              "<table border=\"1\" class=\"dataframe\">\n",
              "  <thead>\n",
              "    <tr style=\"text-align: right;\">\n",
              "      <th></th>\n",
              "      <th>id</th>\n",
              "      <th>vitamin b_2</th>\n",
              "      <th>sunlight</th>\n",
              "      <th>soil moisture</th>\n",
              "      <th>air temperature</th>\n",
              "    </tr>\n",
              "  </thead>\n",
              "  <tbody>\n",
              "    <tr>\n",
              "      <th>0</th>\n",
              "      <td>1</td>\n",
              "      <td>110.4</td>\n",
              "      <td>176</td>\n",
              "      <td>7.0</td>\n",
              "      <td>78</td>\n",
              "    </tr>\n",
              "    <tr>\n",
              "      <th>1</th>\n",
              "      <td>2</td>\n",
              "      <td>102.8</td>\n",
              "      <td>155</td>\n",
              "      <td>7.0</td>\n",
              "      <td>89</td>\n",
              "    </tr>\n",
              "    <tr>\n",
              "      <th>2</th>\n",
              "      <td>3</td>\n",
              "      <td>101.0</td>\n",
              "      <td>273</td>\n",
              "      <td>7.0</td>\n",
              "      <td>89</td>\n",
              "    </tr>\n",
              "    <tr>\n",
              "      <th>3</th>\n",
              "      <td>4</td>\n",
              "      <td>108.4</td>\n",
              "      <td>273</td>\n",
              "      <td>7.0</td>\n",
              "      <td>72</td>\n",
              "    </tr>\n",
              "    <tr>\n",
              "      <th>4</th>\n",
              "      <td>5</td>\n",
              "      <td>100.7</td>\n",
              "      <td>256</td>\n",
              "      <td>7.0</td>\n",
              "      <td>84</td>\n",
              "    </tr>\n",
              "    <tr>\n",
              "      <th>5</th>\n",
              "      <td>6</td>\n",
              "      <td>100.3</td>\n",
              "      <td>280</td>\n",
              "      <td>7.0</td>\n",
              "      <td>87</td>\n",
              "    </tr>\n",
              "    <tr>\n",
              "      <th>6</th>\n",
              "      <td>7</td>\n",
              "      <td>102.0</td>\n",
              "      <td>280</td>\n",
              "      <td>7.0</td>\n",
              "      <td>74</td>\n",
              "    </tr>\n",
              "    <tr>\n",
              "      <th>7</th>\n",
              "      <td>8</td>\n",
              "      <td>93.7</td>\n",
              "      <td>184</td>\n",
              "      <td>7.0</td>\n",
              "      <td>87</td>\n",
              "    </tr>\n",
              "    <tr>\n",
              "      <th>8</th>\n",
              "      <td>9</td>\n",
              "      <td>98.9</td>\n",
              "      <td>216</td>\n",
              "      <td>7.0</td>\n",
              "      <td>88</td>\n",
              "    </tr>\n",
              "    <tr>\n",
              "      <th>9</th>\n",
              "      <td>10</td>\n",
              "      <td>96.6</td>\n",
              "      <td>198</td>\n",
              "      <td>2.0</td>\n",
              "      <td>76</td>\n",
              "    </tr>\n",
              "    <tr>\n",
              "      <th>10</th>\n",
              "      <td>11</td>\n",
              "      <td>99.4</td>\n",
              "      <td>59</td>\n",
              "      <td>2.0</td>\n",
              "      <td>65</td>\n",
              "    </tr>\n",
              "    <tr>\n",
              "      <th>11</th>\n",
              "      <td>12</td>\n",
              "      <td>96.2</td>\n",
              "      <td>80</td>\n",
              "      <td>2.0</td>\n",
              "      <td>67</td>\n",
              "    </tr>\n",
              "    <tr>\n",
              "      <th>12</th>\n",
              "      <td>13</td>\n",
              "      <td>99.0</td>\n",
              "      <td>80</td>\n",
              "      <td>2.0</td>\n",
              "      <td>62</td>\n",
              "    </tr>\n",
              "    <tr>\n",
              "      <th>13</th>\n",
              "      <td>14</td>\n",
              "      <td>88.4</td>\n",
              "      <td>105</td>\n",
              "      <td>2.0</td>\n",
              "      <td>70</td>\n",
              "    </tr>\n",
              "    <tr>\n",
              "      <th>14</th>\n",
              "      <td>15</td>\n",
              "      <td>75.3</td>\n",
              "      <td>180</td>\n",
              "      <td>2.0</td>\n",
              "      <td>73</td>\n",
              "    </tr>\n",
              "    <tr>\n",
              "      <th>15</th>\n",
              "      <td>16</td>\n",
              "      <td>92.0</td>\n",
              "      <td>180</td>\n",
              "      <td>2.0</td>\n",
              "      <td>65</td>\n",
              "    </tr>\n",
              "    <tr>\n",
              "      <th>16</th>\n",
              "      <td>17</td>\n",
              "      <td>82.4</td>\n",
              "      <td>177</td>\n",
              "      <td>2.0</td>\n",
              "      <td>76</td>\n",
              "    </tr>\n",
              "    <tr>\n",
              "      <th>17</th>\n",
              "      <td>18</td>\n",
              "      <td>77.1</td>\n",
              "      <td>230</td>\n",
              "      <td>2.0</td>\n",
              "      <td>82</td>\n",
              "    </tr>\n",
              "    <tr>\n",
              "      <th>18</th>\n",
              "      <td>19</td>\n",
              "      <td>74.0</td>\n",
              "      <td>203</td>\n",
              "      <td>47.4</td>\n",
              "      <td>76</td>\n",
              "    </tr>\n",
              "    <tr>\n",
              "      <th>19</th>\n",
              "      <td>20</td>\n",
              "      <td>65.7</td>\n",
              "      <td>191</td>\n",
              "      <td>47.4</td>\n",
              "      <td>83</td>\n",
              "    </tr>\n",
              "    <tr>\n",
              "      <th>20</th>\n",
              "      <td>21</td>\n",
              "      <td>56.8</td>\n",
              "      <td>191</td>\n",
              "      <td>47.4</td>\n",
              "      <td>82</td>\n",
              "    </tr>\n",
              "    <tr>\n",
              "      <th>21</th>\n",
              "      <td>22</td>\n",
              "      <td>62.1</td>\n",
              "      <td>191</td>\n",
              "      <td>47.4</td>\n",
              "      <td>69</td>\n",
              "    </tr>\n",
              "    <tr>\n",
              "      <th>22</th>\n",
              "      <td>23</td>\n",
              "      <td>61.0</td>\n",
              "      <td>76</td>\n",
              "      <td>47.4</td>\n",
              "      <td>74</td>\n",
              "    </tr>\n",
              "    <tr>\n",
              "      <th>23</th>\n",
              "      <td>24</td>\n",
              "      <td>53.2</td>\n",
              "      <td>213</td>\n",
              "      <td>47.4</td>\n",
              "      <td>76</td>\n",
              "    </tr>\n",
              "    <tr>\n",
              "      <th>24</th>\n",
              "      <td>25</td>\n",
              "      <td>59.4</td>\n",
              "      <td>213</td>\n",
              "      <td>47.4</td>\n",
              "      <td>69</td>\n",
              "    </tr>\n",
              "    <tr>\n",
              "      <th>25</th>\n",
              "      <td>26</td>\n",
              "      <td>58.7</td>\n",
              "      <td>151</td>\n",
              "      <td>47.4</td>\n",
              "      <td>75</td>\n",
              "    </tr>\n",
              "    <tr>\n",
              "      <th>26</th>\n",
              "      <td>27</td>\n",
              "      <td>58.0</td>\n",
              "      <td>205</td>\n",
              "      <td>47.4</td>\n",
              "      <td>76</td>\n",
              "    </tr>\n",
              "  </tbody>\n",
              "</table>\n",
              "</div>"
            ],
            "text/plain": [
              "    id  vitamin b_2  sunlight  soil moisture  air temperature\n",
              "0    1        110.4       176            7.0               78\n",
              "1    2        102.8       155            7.0               89\n",
              "2    3        101.0       273            7.0               89\n",
              "3    4        108.4       273            7.0               72\n",
              "4    5        100.7       256            7.0               84\n",
              "5    6        100.3       280            7.0               87\n",
              "6    7        102.0       280            7.0               74\n",
              "7    8         93.7       184            7.0               87\n",
              "8    9         98.9       216            7.0               88\n",
              "9   10         96.6       198            2.0               76\n",
              "10  11         99.4        59            2.0               65\n",
              "11  12         96.2        80            2.0               67\n",
              "12  13         99.0        80            2.0               62\n",
              "13  14         88.4       105            2.0               70\n",
              "14  15         75.3       180            2.0               73\n",
              "15  16         92.0       180            2.0               65\n",
              "16  17         82.4       177            2.0               76\n",
              "17  18         77.1       230            2.0               82\n",
              "18  19         74.0       203           47.4               76\n",
              "19  20         65.7       191           47.4               83\n",
              "20  21         56.8       191           47.4               82\n",
              "21  22         62.1       191           47.4               69\n",
              "22  23         61.0        76           47.4               74\n",
              "23  24         53.2       213           47.4               76\n",
              "24  25         59.4       213           47.4               69\n",
              "25  26         58.7       151           47.4               75\n",
              "26  27         58.0       205           47.4               76"
            ]
          },
          "metadata": {
            "tags": []
          },
          "execution_count": 13
        }
      ]
    },
    {
      "metadata": {
        "id": "T_YfB0tp8TvN",
        "colab_type": "text"
      },
      "cell_type": "markdown",
      "source": [
        "## Figure 2.1 Data plots for the turnip data"
      ]
    },
    {
      "metadata": {
        "id": "waDQGNTR7y7n",
        "colab_type": "code",
        "colab": {
          "base_uri": "https://localhost:8080/",
          "height": 378
        },
        "outputId": "1a74d120-2c65-4db6-8f95-f1ce0c16e699"
      },
      "cell_type": "code",
      "source": [
        "turnips_df.plot(x='sunlight', y='vitamin b_2', kind=\"scatter\")"
      ],
      "execution_count": 6,
      "outputs": [
        {
          "output_type": "execute_result",
          "data": {
            "text/plain": [
              "<matplotlib.axes._subplots.AxesSubplot at 0x7fbf8412a9e8>"
            ]
          },
          "metadata": {
            "tags": []
          },
          "execution_count": 6
        },
        {
          "output_type": "display_data",
          "data": {
            "image/png": "[encoded data removed]",
            "text/plain": [
              "<matplotlib.figure.Figure at 0x7fbf84168cc0>"
            ]
          },
          "metadata": {
            "tags": []
          }
        }
      ]
    },
    {
      "metadata": {
        "id": "DrbBqEtS77k8",
        "colab_type": "code",
        "colab": {
          "base_uri": "https://localhost:8080/",
          "height": 378
        },
        "outputId": "c540e8fe-29e7-4e03-b960-761dfb51455a"
      },
      "cell_type": "code",
      "source": [
        "turnips_df.plot(x='soil moisture', y='vitamin b_2', kind=\"scatter\")"
      ],
      "execution_count": 7,
      "outputs": [
        {
          "output_type": "execute_result",
          "data": {
            "text/plain": [
              "<matplotlib.axes._subplots.AxesSubplot at 0x7fbf84086ba8>"
            ]
          },
          "metadata": {
            "tags": []
          },
          "execution_count": 7
        },
        {
          "output_type": "display_data",
          "data": {
            "image/png": "[encoded data removed]",
            "text/plain": [
              "<matplotlib.figure.Figure at 0x7fbf84188940>"
            ]
          },
          "metadata": {
            "tags": []
          }
        }
      ]
    },
    {
      "metadata": {
        "id": "_a92xqs_8aXm",
        "colab_type": "code",
        "colab": {
          "base_uri": "https://localhost:8080/",
          "height": 378
        },
        "outputId": "373affaa-cbfd-4c3d-98f7-ff5e61025039"
      },
      "cell_type": "code",
      "source": [
        "turnips_df.plot(x='air temperature', y='vitamin b_2', kind=\"scatter\")"
      ],
      "execution_count": 8,
      "outputs": [
        {
          "output_type": "execute_result",
          "data": {
            "text/plain": [
              "<matplotlib.axes._subplots.AxesSubplot at 0x7fbf84056828>"
            ]
          },
          "metadata": {
            "tags": []
          },
          "execution_count": 8
        },
        {
          "output_type": "display_data",
          "data": {
            "image/png": "[encoded data removed]",
            "text/plain": [
              "<matplotlib.figure.Figure at 0x7fbf840d12b0>"
            ]
          },
          "metadata": {
            "tags": []
          }
        }
      ]
    },
    {
      "metadata": {
        "id": "gclGSi2t8dHt",
        "colab_type": "code",
        "colab": {
          "base_uri": "https://localhost:8080/",
          "height": 979
        },
        "outputId": "e9be67a0-a4d0-46af-d2cc-48d9ee7e2637"
      },
      "cell_type": "code",
      "source": [
        "fire_df = pd.read_csv(\"https://raw.githubusercontent.com/f00-/alternative-methods-of-regression-with-python/master/fire.csv\")\n",
        "fire_df.head(30)"
      ],
      "execution_count": 16,
      "outputs": [
        {
          "output_type": "execute_result",
          "data": {
            "text/html": [
              "<div>\n",
              "<style scoped>\n",
              "    .dataframe tbody tr th:only-of-type {\n",
              "        vertical-align: middle;\n",
              "    }\n",
              "\n",
              "    .dataframe tbody tr th {\n",
              "        vertical-align: top;\n",
              "    }\n",
              "\n",
              "    .dataframe thead th {\n",
              "        text-align: right;\n",
              "    }\n",
              "</style>\n",
              "<table border=\"1\" class=\"dataframe\">\n",
              "  <thead>\n",
              "    <tr style=\"text-align: right;\">\n",
              "      <th></th>\n",
              "      <th>Unnamed: 0</th>\n",
              "      <th>zipcode</th>\n",
              "      <th>x</th>\n",
              "      <th>FIRE</th>\n",
              "      <th>THEFT</th>\n",
              "      <th>AGE</th>\n",
              "      <th>y</th>\n",
              "      <th>z</th>\n",
              "      <th>INCOME</th>\n",
              "    </tr>\n",
              "  </thead>\n",
              "  <tbody>\n",
              "    <tr>\n",
              "      <th>0</th>\n",
              "      <td>0</td>\n",
              "      <td>60626</td>\n",
              "      <td>10.0</td>\n",
              "      <td>6.2</td>\n",
              "      <td>29</td>\n",
              "      <td>60.4</td>\n",
              "      <td>5.3</td>\n",
              "      <td>0.0</td>\n",
              "      <td>11744</td>\n",
              "    </tr>\n",
              "    <tr>\n",
              "      <th>1</th>\n",
              "      <td>1</td>\n",
              "      <td>60640</td>\n",
              "      <td>22.2</td>\n",
              "      <td>9.5</td>\n",
              "      <td>44</td>\n",
              "      <td>76.5</td>\n",
              "      <td>3.1</td>\n",
              "      <td>0.1</td>\n",
              "      <td>9323</td>\n",
              "    </tr>\n",
              "    <tr>\n",
              "      <th>2</th>\n",
              "      <td>2</td>\n",
              "      <td>60613</td>\n",
              "      <td>19.6</td>\n",
              "      <td>10.5</td>\n",
              "      <td>36</td>\n",
              "      <td>73.5</td>\n",
              "      <td>4.8</td>\n",
              "      <td>1.2</td>\n",
              "      <td>9948</td>\n",
              "    </tr>\n",
              "    <tr>\n",
              "      <th>3</th>\n",
              "      <td>3</td>\n",
              "      <td>60657</td>\n",
              "      <td>17.3</td>\n",
              "      <td>7.7</td>\n",
              "      <td>37</td>\n",
              "      <td>66.9</td>\n",
              "      <td>5.7</td>\n",
              "      <td>0.5</td>\n",
              "      <td>10656</td>\n",
              "    </tr>\n",
              "    <tr>\n",
              "      <th>4</th>\n",
              "      <td>4</td>\n",
              "      <td>60614</td>\n",
              "      <td>24.5</td>\n",
              "      <td>8.6</td>\n",
              "      <td>53</td>\n",
              "      <td>81.4</td>\n",
              "      <td>5.9</td>\n",
              "      <td>0.7</td>\n",
              "      <td>9730</td>\n",
              "    </tr>\n",
              "    <tr>\n",
              "      <th>5</th>\n",
              "      <td>5</td>\n",
              "      <td>60610</td>\n",
              "      <td>54.0</td>\n",
              "      <td>34.1</td>\n",
              "      <td>68</td>\n",
              "      <td>52.6</td>\n",
              "      <td>4.0</td>\n",
              "      <td>0.3</td>\n",
              "      <td>8231</td>\n",
              "    </tr>\n",
              "    <tr>\n",
              "      <th>6</th>\n",
              "      <td>6</td>\n",
              "      <td>60611</td>\n",
              "      <td>4.9</td>\n",
              "      <td>11.0</td>\n",
              "      <td>75</td>\n",
              "      <td>42.6</td>\n",
              "      <td>7.9</td>\n",
              "      <td>0.0</td>\n",
              "      <td>21480</td>\n",
              "    </tr>\n",
              "    <tr>\n",
              "      <th>7</th>\n",
              "      <td>7</td>\n",
              "      <td>60625</td>\n",
              "      <td>7.1</td>\n",
              "      <td>6.9</td>\n",
              "      <td>18</td>\n",
              "      <td>78.5</td>\n",
              "      <td>6.9</td>\n",
              "      <td>0.0</td>\n",
              "      <td>11104</td>\n",
              "    </tr>\n",
              "    <tr>\n",
              "      <th>8</th>\n",
              "      <td>8</td>\n",
              "      <td>60618</td>\n",
              "      <td>5.3</td>\n",
              "      <td>7.3</td>\n",
              "      <td>31</td>\n",
              "      <td>90.1</td>\n",
              "      <td>7.6</td>\n",
              "      <td>0.4</td>\n",
              "      <td>10694</td>\n",
              "    </tr>\n",
              "    <tr>\n",
              "      <th>9</th>\n",
              "      <td>9</td>\n",
              "      <td>60647</td>\n",
              "      <td>21.5</td>\n",
              "      <td>15.1</td>\n",
              "      <td>25</td>\n",
              "      <td>89.8</td>\n",
              "      <td>3.1</td>\n",
              "      <td>1.1</td>\n",
              "      <td>9631</td>\n",
              "    </tr>\n",
              "    <tr>\n",
              "      <th>10</th>\n",
              "      <td>10</td>\n",
              "      <td>60622</td>\n",
              "      <td>43.1</td>\n",
              "      <td>29.1</td>\n",
              "      <td>34</td>\n",
              "      <td>82.7</td>\n",
              "      <td>1.3</td>\n",
              "      <td>1.9</td>\n",
              "      <td>7995</td>\n",
              "    </tr>\n",
              "    <tr>\n",
              "      <th>11</th>\n",
              "      <td>11</td>\n",
              "      <td>60631</td>\n",
              "      <td>1.1</td>\n",
              "      <td>2.2</td>\n",
              "      <td>14</td>\n",
              "      <td>40.2</td>\n",
              "      <td>14.3</td>\n",
              "      <td>0.0</td>\n",
              "      <td>13722</td>\n",
              "    </tr>\n",
              "    <tr>\n",
              "      <th>12</th>\n",
              "      <td>12</td>\n",
              "      <td>60646</td>\n",
              "      <td>1.0</td>\n",
              "      <td>5.7</td>\n",
              "      <td>11</td>\n",
              "      <td>27.9</td>\n",
              "      <td>12.1</td>\n",
              "      <td>0.0</td>\n",
              "      <td>16250</td>\n",
              "    </tr>\n",
              "    <tr>\n",
              "      <th>13</th>\n",
              "      <td>13</td>\n",
              "      <td>60656</td>\n",
              "      <td>1.7</td>\n",
              "      <td>2.0</td>\n",
              "      <td>11</td>\n",
              "      <td>7.7</td>\n",
              "      <td>10.9</td>\n",
              "      <td>0.0</td>\n",
              "      <td>13686</td>\n",
              "    </tr>\n",
              "    <tr>\n",
              "      <th>14</th>\n",
              "      <td>14</td>\n",
              "      <td>60630</td>\n",
              "      <td>1.6</td>\n",
              "      <td>2.5</td>\n",
              "      <td>22</td>\n",
              "      <td>63.8</td>\n",
              "      <td>10.7</td>\n",
              "      <td>0.0</td>\n",
              "      <td>12405</td>\n",
              "    </tr>\n",
              "    <tr>\n",
              "      <th>15</th>\n",
              "      <td>15</td>\n",
              "      <td>60634</td>\n",
              "      <td>1.5</td>\n",
              "      <td>3.0</td>\n",
              "      <td>17</td>\n",
              "      <td>51.2</td>\n",
              "      <td>13.8</td>\n",
              "      <td>0.0</td>\n",
              "      <td>12198</td>\n",
              "    </tr>\n",
              "    <tr>\n",
              "      <th>16</th>\n",
              "      <td>16</td>\n",
              "      <td>60641</td>\n",
              "      <td>1.8</td>\n",
              "      <td>5.4</td>\n",
              "      <td>27</td>\n",
              "      <td>85.1</td>\n",
              "      <td>8.9</td>\n",
              "      <td>0.0</td>\n",
              "      <td>11600</td>\n",
              "    </tr>\n",
              "    <tr>\n",
              "      <th>17</th>\n",
              "      <td>17</td>\n",
              "      <td>60635</td>\n",
              "      <td>1.0</td>\n",
              "      <td>2.2</td>\n",
              "      <td>9</td>\n",
              "      <td>44.4</td>\n",
              "      <td>11.5</td>\n",
              "      <td>0.0</td>\n",
              "      <td>12765</td>\n",
              "    </tr>\n",
              "    <tr>\n",
              "      <th>18</th>\n",
              "      <td>18</td>\n",
              "      <td>60639</td>\n",
              "      <td>2.5</td>\n",
              "      <td>7.2</td>\n",
              "      <td>29</td>\n",
              "      <td>84.2</td>\n",
              "      <td>8.5</td>\n",
              "      <td>0.2</td>\n",
              "      <td>11084</td>\n",
              "    </tr>\n",
              "    <tr>\n",
              "      <th>19</th>\n",
              "      <td>19</td>\n",
              "      <td>60651</td>\n",
              "      <td>13.4</td>\n",
              "      <td>15.1</td>\n",
              "      <td>30</td>\n",
              "      <td>89.8</td>\n",
              "      <td>5.2</td>\n",
              "      <td>0.8</td>\n",
              "      <td>10510</td>\n",
              "    </tr>\n",
              "    <tr>\n",
              "      <th>20</th>\n",
              "      <td>20</td>\n",
              "      <td>60644</td>\n",
              "      <td>59.8</td>\n",
              "      <td>16.5</td>\n",
              "      <td>40</td>\n",
              "      <td>72.7</td>\n",
              "      <td>2.7</td>\n",
              "      <td>0.8</td>\n",
              "      <td>9784</td>\n",
              "    </tr>\n",
              "    <tr>\n",
              "      <th>21</th>\n",
              "      <td>21</td>\n",
              "      <td>60624</td>\n",
              "      <td>94.4</td>\n",
              "      <td>18.4</td>\n",
              "      <td>32</td>\n",
              "      <td>72.9</td>\n",
              "      <td>1.2</td>\n",
              "      <td>1.8</td>\n",
              "      <td>7342</td>\n",
              "    </tr>\n",
              "    <tr>\n",
              "      <th>22</th>\n",
              "      <td>22</td>\n",
              "      <td>60612</td>\n",
              "      <td>86.2</td>\n",
              "      <td>36.2</td>\n",
              "      <td>41</td>\n",
              "      <td>63.1</td>\n",
              "      <td>0.8</td>\n",
              "      <td>1.8</td>\n",
              "      <td>6565</td>\n",
              "    </tr>\n",
              "    <tr>\n",
              "      <th>23</th>\n",
              "      <td>23</td>\n",
              "      <td>60607</td>\n",
              "      <td>50.2</td>\n",
              "      <td>39.7</td>\n",
              "      <td>147</td>\n",
              "      <td>83.0</td>\n",
              "      <td>5.2</td>\n",
              "      <td>0.9</td>\n",
              "      <td>7459</td>\n",
              "    </tr>\n",
              "    <tr>\n",
              "      <th>24</th>\n",
              "      <td>24</td>\n",
              "      <td>60623</td>\n",
              "      <td>74.2</td>\n",
              "      <td>18.5</td>\n",
              "      <td>22</td>\n",
              "      <td>78.3</td>\n",
              "      <td>1.8</td>\n",
              "      <td>1.9</td>\n",
              "      <td>8014</td>\n",
              "    </tr>\n",
              "    <tr>\n",
              "      <th>25</th>\n",
              "      <td>25</td>\n",
              "      <td>60608</td>\n",
              "      <td>55.5</td>\n",
              "      <td>23.3</td>\n",
              "      <td>29</td>\n",
              "      <td>79.0</td>\n",
              "      <td>2.1</td>\n",
              "      <td>1.5</td>\n",
              "      <td>8177</td>\n",
              "    </tr>\n",
              "    <tr>\n",
              "      <th>26</th>\n",
              "      <td>26</td>\n",
              "      <td>60616</td>\n",
              "      <td>62.3</td>\n",
              "      <td>12.2</td>\n",
              "      <td>46</td>\n",
              "      <td>48.0</td>\n",
              "      <td>3.4</td>\n",
              "      <td>0.6</td>\n",
              "      <td>8212</td>\n",
              "    </tr>\n",
              "    <tr>\n",
              "      <th>27</th>\n",
              "      <td>27</td>\n",
              "      <td>60632</td>\n",
              "      <td>4.4</td>\n",
              "      <td>5.6</td>\n",
              "      <td>23</td>\n",
              "      <td>71.5</td>\n",
              "      <td>8.0</td>\n",
              "      <td>0.3</td>\n",
              "      <td>11230</td>\n",
              "    </tr>\n",
              "    <tr>\n",
              "      <th>28</th>\n",
              "      <td>28</td>\n",
              "      <td>60609</td>\n",
              "      <td>46.2</td>\n",
              "      <td>21.8</td>\n",
              "      <td>4</td>\n",
              "      <td>73.1</td>\n",
              "      <td>2.6</td>\n",
              "      <td>1.3</td>\n",
              "      <td>8330</td>\n",
              "    </tr>\n",
              "    <tr>\n",
              "      <th>29</th>\n",
              "      <td>29</td>\n",
              "      <td>60653</td>\n",
              "      <td>99.7</td>\n",
              "      <td>21.6</td>\n",
              "      <td>31</td>\n",
              "      <td>65.0</td>\n",
              "      <td>0.5</td>\n",
              "      <td>0.9</td>\n",
              "      <td>5583</td>\n",
              "    </tr>\n",
              "  </tbody>\n",
              "</table>\n",
              "</div>"
            ],
            "text/plain": [
              "    Unnamed: 0  zipcode     x  FIRE  THEFT   AGE     y    z  INCOME\n",
              "0            0    60626  10.0   6.2     29  60.4   5.3  0.0   11744\n",
              "1            1    60640  22.2   9.5     44  76.5   3.1  0.1    9323\n",
              "2            2    60613  19.6  10.5     36  73.5   4.8  1.2    9948\n",
              "3            3    60657  17.3   7.7     37  66.9   5.7  0.5   10656\n",
              "4            4    60614  24.5   8.6     53  81.4   5.9  0.7    9730\n",
              "5            5    60610  54.0  34.1     68  52.6   4.0  0.3    8231\n",
              "6            6    60611   4.9  11.0     75  42.6   7.9  0.0   21480\n",
              "7            7    60625   7.1   6.9     18  78.5   6.9  0.0   11104\n",
              "8            8    60618   5.3   7.3     31  90.1   7.6  0.4   10694\n",
              "9            9    60647  21.5  15.1     25  89.8   3.1  1.1    9631\n",
              "10          10    60622  43.1  29.1     34  82.7   1.3  1.9    7995\n",
              "11          11    60631   1.1   2.2     14  40.2  14.3  0.0   13722\n",
              "12          12    60646   1.0   5.7     11  27.9  12.1  0.0   16250\n",
              "13          13    60656   1.7   2.0     11   7.7  10.9  0.0   13686\n",
              "14          14    60630   1.6   2.5     22  63.8  10.7  0.0   12405\n",
              "15          15    60634   1.5   3.0     17  51.2  13.8  0.0   12198\n",
              "16          16    60641   1.8   5.4     27  85.1   8.9  0.0   11600\n",
              "17          17    60635   1.0   2.2      9  44.4  11.5  0.0   12765\n",
              "18          18    60639   2.5   7.2     29  84.2   8.5  0.2   11084\n",
              "19          19    60651  13.4  15.1     30  89.8   5.2  0.8   10510\n",
              "20          20    60644  59.8  16.5     40  72.7   2.7  0.8    9784\n",
              "21          21    60624  94.4  18.4     32  72.9   1.2  1.8    7342\n",
              "22          22    60612  86.2  36.2     41  63.1   0.8  1.8    6565\n",
              "23          23    60607  50.2  39.7    147  83.0   5.2  0.9    7459\n",
              "24          24    60623  74.2  18.5     22  78.3   1.8  1.9    8014\n",
              "25          25    60608  55.5  23.3     29  79.0   2.1  1.5    8177\n",
              "26          26    60616  62.3  12.2     46  48.0   3.4  0.6    8212\n",
              "27          27    60632   4.4   5.6     23  71.5   8.0  0.3   11230\n",
              "28          28    60609  46.2  21.8      4  73.1   2.6  1.3    8330\n",
              "29          29    60653  99.7  21.6     31  65.0   0.5  0.9    5583"
            ]
          },
          "metadata": {
            "tags": []
          },
          "execution_count": 16
        }
      ]
    },
    {
      "metadata": {
        "id": "Y7U4-pGVIc0X",
        "colab_type": "code",
        "colab": {
          "base_uri": "https://localhost:8080/",
          "height": 378
        },
        "outputId": "766c93dc-cbdd-4e98-d13e-2a36f7f9ff42"
      },
      "cell_type": "code",
      "source": [
        "fire_df.plot(x=\"AGE\", y=\"FIRE\", kind=\"scatter\")"
      ],
      "execution_count": 10,
      "outputs": [
        {
          "output_type": "execute_result",
          "data": {
            "text/plain": [
              "<matplotlib.axes._subplots.AxesSubplot at 0x7fbf83fbf860>"
            ]
          },
          "metadata": {
            "tags": []
          },
          "execution_count": 10
        },
        {
          "output_type": "display_data",
          "data": {
            "image/png": "[encoded data removed]",
            "text/plain": [
              "<matplotlib.figure.Figure at 0x7fbf8422b860>"
            ]
          },
          "metadata": {
            "tags": []
          }
        }
      ]
    },
    {
      "metadata": {
        "id": "NY72Qli_Iwx4",
        "colab_type": "code",
        "colab": {
          "base_uri": "https://localhost:8080/",
          "height": 378
        },
        "outputId": "273ed5f4-1397-4f25-ff0c-aa49823f6887"
      },
      "cell_type": "code",
      "source": [
        "fire_df.plot(x=\"THEFT\", y=\"FIRE\", kind=\"scatter\")"
      ],
      "execution_count": 11,
      "outputs": [
        {
          "output_type": "execute_result",
          "data": {
            "text/plain": [
              "<matplotlib.axes._subplots.AxesSubplot at 0x7fbf840a0e10>"
            ]
          },
          "metadata": {
            "tags": []
          },
          "execution_count": 11
        },
        {
          "output_type": "display_data",
          "data": {
            "image/png": "[encoded data removed]",
            "text/plain": [
              "<matplotlib.figure.Figure at 0x7fbf83fd1908>"
            ]
          },
          "metadata": {
            "tags": []
          }
        }
      ]
    },
    {
      "metadata": {
        "id": "2sH5O8uiI00B",
        "colab_type": "code",
        "colab": {
          "base_uri": "https://localhost:8080/",
          "height": 378
        },
        "outputId": "cf6cefe7-96f5-4ed4-9186-cd1677bd21ef"
      },
      "cell_type": "code",
      "source": [
        "fire_df.plot(x=\"INCOME\", y=\"FIRE\", kind=\"scatter\")"
      ],
      "execution_count": 12,
      "outputs": [
        {
          "output_type": "execute_result",
          "data": {
            "text/plain": [
              "<matplotlib.axes._subplots.AxesSubplot at 0x7fbf83f5a3c8>"
            ]
          },
          "metadata": {
            "tags": []
          },
          "execution_count": 12
        },
        {
          "output_type": "display_data",
          "data": {
            "image/png": "[encoded data removed]",
            "text/plain": [
              "<matplotlib.figure.Figure at 0x7fbf83fcab00>"
            ]
          },
          "metadata": {
            "tags": []
          }
        }
      ]
    },
    {
      "metadata": {
        "id": "pT9tamJlI2lY",
        "colab_type": "code",
        "colab": {
          "base_uri": "https://localhost:8080/",
          "height": 378
        },
        "outputId": "b64a30cf-9394-43da-cc1a-3c6df7ef9bfb"
      },
      "cell_type": "code",
      "source": [
        "fire_df['log_fire'] = fire_df.apply(lambda row: math.log(row.FIRE), axis=1)\n",
        "# todo remove area 7 and 25 (outliers)\n",
        "fire_df.plot(x=\"AGE\", y=\"log_fire\", kind=\"scatter\")"
      ],
      "execution_count": 17,
      "outputs": [
        {
          "output_type": "execute_result",
          "data": {
            "text/plain": [
              "<matplotlib.axes._subplots.AxesSubplot at 0x7fbf83ea90b8>"
            ]
          },
          "metadata": {
            "tags": []
          },
          "execution_count": 17
        },
        {
          "output_type": "display_data",
          "data": {
            "image/png": "[encoded data removed]",
            "text/plain": [
              "<matplotlib.figure.Figure at 0x7fbf83ef7e48>"
            ]
          },
          "metadata": {
            "tags": []
          }
        }
      ]
    },
    {
      "metadata": {
        "id": "1TbesdybJ3wM",
        "colab_type": "code",
        "colab": {
          "base_uri": "https://localhost:8080/",
          "height": 378
        },
        "outputId": "1cdb9ccf-e40d-44a1-86ee-65b726e1b24f"
      },
      "cell_type": "code",
      "source": [
        "fire_df.plot(x=\"THEFT\", y=\"FIRE\", kind=\"scatter\")"
      ],
      "execution_count": 18,
      "outputs": [
        {
          "output_type": "execute_result",
          "data": {
            "text/plain": [
              "<matplotlib.axes._subplots.AxesSubplot at 0x7fbf83ef72e8>"
            ]
          },
          "metadata": {
            "tags": []
          },
          "execution_count": 18
        },
        {
          "output_type": "display_data",
          "data": {
            "image/png": "[encoded data removed]",
            "text/plain": [
              "<matplotlib.figure.Figure at 0x7fbf83eaa198>"
            ]
          },
          "metadata": {
            "tags": []
          }
        }
      ]
    },
    {
      "metadata": {
        "id": "RREnZAlGJ4Hb",
        "colab_type": "code",
        "colab": {
          "base_uri": "https://localhost:8080/",
          "height": 378
        },
        "outputId": "339bdffc-5cae-49a0-e7fb-1d284687a65e"
      },
      "cell_type": "code",
      "source": [
        "fire_df.plot(x=\"INCOME\", y=\"FIRE\", kind=\"scatter\")"
      ],
      "execution_count": 19,
      "outputs": [
        {
          "output_type": "execute_result",
          "data": {
            "text/plain": [
              "<matplotlib.axes._subplots.AxesSubplot at 0x7fbf83eaf630>"
            ]
          },
          "metadata": {
            "tags": []
          },
          "execution_count": 19
        },
        {
          "output_type": "display_data",
          "data": {
            "image/png": "[encoded data removed]",
            "text/plain": [
              "<matplotlib.figure.Figure at 0x7fbf83e05710>"
            ]
          },
          "metadata": {
            "tags": []
          }
        }
      ]
    },
    {
      "metadata": {
        "id": "lHSwwQZWJ5SU",
        "colab_type": "code",
        "colab": {}
      },
      "cell_type": "code",
      "source": [
        ""
      ],
      "execution_count": 0,
      "outputs": []
    }
  ]
}